{
 "cells": [
  {
   "cell_type": "code",
   "execution_count": 2,
   "id": "6eaa7e69",
   "metadata": {},
   "outputs": [],
   "source": [
    "import pandas as pd\n",
    "import numpy as np\n",
    "import matplotlib.pyplot as plt\n",
    "from sklearn.preprocessing import StandardScaler\n",
    "from sklearn.linear_model import LinearRegression\n",
    "from sklearn.model_selection import train_test_split\n",
    "import seaborn as sns\n",
    "import pickle\n",
    "import warnings\n",
    "warnings.filterwarnings('ignore')"
   ]
  },
  {
   "cell_type": "code",
   "execution_count": 3,
   "id": "4a78f850",
   "metadata": {},
   "outputs": [
    {
     "data": {
      "text/html": [
       "<div>\n",
       "<style scoped>\n",
       "    .dataframe tbody tr th:only-of-type {\n",
       "        vertical-align: middle;\n",
       "    }\n",
       "\n",
       "    .dataframe tbody tr th {\n",
       "        vertical-align: top;\n",
       "    }\n",
       "\n",
       "    .dataframe thead th {\n",
       "        text-align: right;\n",
       "    }\n",
       "</style>\n",
       "<table border=\"1\" class=\"dataframe\">\n",
       "  <thead>\n",
       "    <tr style=\"text-align: right;\">\n",
       "      <th></th>\n",
       "      <th>rank</th>\n",
       "      <th>discipline</th>\n",
       "      <th>yrs.since.phd</th>\n",
       "      <th>yrs.service</th>\n",
       "      <th>sex</th>\n",
       "      <th>salary</th>\n",
       "    </tr>\n",
       "  </thead>\n",
       "  <tbody>\n",
       "    <tr>\n",
       "      <th>0</th>\n",
       "      <td>Prof</td>\n",
       "      <td>B</td>\n",
       "      <td>19</td>\n",
       "      <td>18</td>\n",
       "      <td>Male</td>\n",
       "      <td>139750</td>\n",
       "    </tr>\n",
       "    <tr>\n",
       "      <th>1</th>\n",
       "      <td>Prof</td>\n",
       "      <td>B</td>\n",
       "      <td>20</td>\n",
       "      <td>16</td>\n",
       "      <td>Male</td>\n",
       "      <td>173200</td>\n",
       "    </tr>\n",
       "    <tr>\n",
       "      <th>2</th>\n",
       "      <td>AsstProf</td>\n",
       "      <td>B</td>\n",
       "      <td>4</td>\n",
       "      <td>3</td>\n",
       "      <td>Male</td>\n",
       "      <td>79750</td>\n",
       "    </tr>\n",
       "    <tr>\n",
       "      <th>3</th>\n",
       "      <td>Prof</td>\n",
       "      <td>B</td>\n",
       "      <td>45</td>\n",
       "      <td>39</td>\n",
       "      <td>Male</td>\n",
       "      <td>115000</td>\n",
       "    </tr>\n",
       "    <tr>\n",
       "      <th>4</th>\n",
       "      <td>Prof</td>\n",
       "      <td>B</td>\n",
       "      <td>40</td>\n",
       "      <td>41</td>\n",
       "      <td>Male</td>\n",
       "      <td>141500</td>\n",
       "    </tr>\n",
       "  </tbody>\n",
       "</table>\n",
       "</div>"
      ],
      "text/plain": [
       "       rank discipline  yrs.since.phd  yrs.service   sex  salary\n",
       "0      Prof          B             19           18  Male  139750\n",
       "1      Prof          B             20           16  Male  173200\n",
       "2  AsstProf          B              4            3  Male   79750\n",
       "3      Prof          B             45           39  Male  115000\n",
       "4      Prof          B             40           41  Male  141500"
      ]
     },
     "execution_count": 3,
     "metadata": {},
     "output_type": "execute_result"
    }
   ],
   "source": [
    "data=pd.read_csv('https://raw.githubusercontent.com/dsrscientist/dataset3/main/Salaries.csv')\n",
    "data.head(5)"
   ]
  },
  {
   "cell_type": "code",
   "execution_count": 4,
   "id": "2121cb8e",
   "metadata": {},
   "outputs": [
    {
     "data": {
      "text/plain": [
       "(397, 6)"
      ]
     },
     "execution_count": 4,
     "metadata": {},
     "output_type": "execute_result"
    }
   ],
   "source": [
    "data.shape"
   ]
  },
  {
   "cell_type": "code",
   "execution_count": 5,
   "id": "5e7431e1",
   "metadata": {},
   "outputs": [
    {
     "data": {
      "text/html": [
       "<div>\n",
       "<style scoped>\n",
       "    .dataframe tbody tr th:only-of-type {\n",
       "        vertical-align: middle;\n",
       "    }\n",
       "\n",
       "    .dataframe tbody tr th {\n",
       "        vertical-align: top;\n",
       "    }\n",
       "\n",
       "    .dataframe thead th {\n",
       "        text-align: right;\n",
       "    }\n",
       "</style>\n",
       "<table border=\"1\" class=\"dataframe\">\n",
       "  <thead>\n",
       "    <tr style=\"text-align: right;\">\n",
       "      <th></th>\n",
       "      <th>yrs.since.phd</th>\n",
       "      <th>yrs.service</th>\n",
       "      <th>salary</th>\n",
       "    </tr>\n",
       "  </thead>\n",
       "  <tbody>\n",
       "    <tr>\n",
       "      <th>count</th>\n",
       "      <td>397.000000</td>\n",
       "      <td>397.000000</td>\n",
       "      <td>397.000000</td>\n",
       "    </tr>\n",
       "    <tr>\n",
       "      <th>mean</th>\n",
       "      <td>22.314861</td>\n",
       "      <td>17.614610</td>\n",
       "      <td>113706.458438</td>\n",
       "    </tr>\n",
       "    <tr>\n",
       "      <th>std</th>\n",
       "      <td>12.887003</td>\n",
       "      <td>13.006024</td>\n",
       "      <td>30289.038695</td>\n",
       "    </tr>\n",
       "    <tr>\n",
       "      <th>min</th>\n",
       "      <td>1.000000</td>\n",
       "      <td>0.000000</td>\n",
       "      <td>57800.000000</td>\n",
       "    </tr>\n",
       "    <tr>\n",
       "      <th>25%</th>\n",
       "      <td>12.000000</td>\n",
       "      <td>7.000000</td>\n",
       "      <td>91000.000000</td>\n",
       "    </tr>\n",
       "    <tr>\n",
       "      <th>50%</th>\n",
       "      <td>21.000000</td>\n",
       "      <td>16.000000</td>\n",
       "      <td>107300.000000</td>\n",
       "    </tr>\n",
       "    <tr>\n",
       "      <th>75%</th>\n",
       "      <td>32.000000</td>\n",
       "      <td>27.000000</td>\n",
       "      <td>134185.000000</td>\n",
       "    </tr>\n",
       "    <tr>\n",
       "      <th>max</th>\n",
       "      <td>56.000000</td>\n",
       "      <td>60.000000</td>\n",
       "      <td>231545.000000</td>\n",
       "    </tr>\n",
       "  </tbody>\n",
       "</table>\n",
       "</div>"
      ],
      "text/plain": [
       "       yrs.since.phd  yrs.service         salary\n",
       "count     397.000000   397.000000     397.000000\n",
       "mean       22.314861    17.614610  113706.458438\n",
       "std        12.887003    13.006024   30289.038695\n",
       "min         1.000000     0.000000   57800.000000\n",
       "25%        12.000000     7.000000   91000.000000\n",
       "50%        21.000000    16.000000  107300.000000\n",
       "75%        32.000000    27.000000  134185.000000\n",
       "max        56.000000    60.000000  231545.000000"
      ]
     },
     "execution_count": 5,
     "metadata": {},
     "output_type": "execute_result"
    }
   ],
   "source": [
    "data.describe()"
   ]
  },
  {
   "cell_type": "code",
   "execution_count": 6,
   "id": "7a3b5c0d",
   "metadata": {},
   "outputs": [
    {
     "data": {
      "text/plain": [
       "0"
      ]
     },
     "execution_count": 6,
     "metadata": {},
     "output_type": "execute_result"
    }
   ],
   "source": [
    "data.isnull().sum().sum()"
   ]
  },
  {
   "cell_type": "code",
   "execution_count": 39,
   "id": "050275ed",
   "metadata": {},
   "outputs": [
    {
     "data": {
      "text/plain": [
       "<AxesSubplot:xlabel='salary', ylabel='Density'>"
      ]
     },
     "execution_count": 39,
     "metadata": {},
     "output_type": "execute_result"
    },
    {
     "data": {
      "image/png": "[encoded data removed]",
      "text/plain": [
       "<Figure size 432x288 with 1 Axes>"
      ]
     },
     "metadata": {
      "needs_background": "light"
     },
     "output_type": "display_data"
    }
   ],
   "source": [
    "sns.distplot(data['yrs.since.phd'])\n",
    "sns.distplot(data['yrs.service'])\n",
    "sns.distplot(data['salary'])"
   ]
  },
  {
   "cell_type": "code",
   "execution_count": 8,
   "id": "b89c0be0",
   "metadata": {},
   "outputs": [
    {
     "data": {
      "text/plain": [
       "array([18, 16,  3, 39, 41,  6, 23, 45, 20, 18,  8,  2,  1,  0, 18,  3, 20,\n",
       "       34, 23, 36, 26, 31, 30, 19,  8,  8, 23,  3,  0,  8,  4,  2,  9,  2,\n",
       "        2,  0, 21,  4, 31,  9,  2, 23, 27, 38, 19, 15, 28, 19, 25,  1, 28,\n",
       "       11,  3,  9, 11,  5, 21,  8,  9,  3,  8,  2, 31, 11,  3,  8, 12, 31,\n",
       "       17, 36,  2, 45, 19, 34, 23,  3,  3, 19,  1,  2, 28, 16, 20,  2, 18,\n",
       "       14, 37,  2, 25,  7,  5,  7,  7, 38, 20,  0, 12,  7, 14, 26, 25, 23,\n",
       "        5, 14, 10, 28,  8,  8,  8, 31, 16, 16,  1, 37,  0,  9, 29, 36,  1,\n",
       "        3, 14, 32, 22, 22, 22, 49, 26,  0, 30,  2,  9, 57,  8,  1, 25, 18,\n",
       "       14, 14,  7, 18,  8, 10, 11,  3, 27, 28,  4, 27, 26,  3, 12,  4,  9,\n",
       "       10,  0, 21, 18,  0,  6, 16,  2, 19,  7,  3,  0,  8, 16, 19,  6, 18,\n",
       "        5, 19, 24, 20,  6, 25,  7,  9, 14,  3, 11,  5,  8, 22, 23, 30, 10,\n",
       "       10, 28, 19,  9, 22, 18, 19, 53,  7,  4,  4, 33, 22,  4, 40, 17, 17,\n",
       "        5,  2, 33, 18,  2, 20,  3, 39,  7, 19,  1, 11, 11, 22,  7, 11, 21,\n",
       "       10,  6, 20, 35, 20,  1,  7, 11, 38, 27, 24, 19, 19,  3, 17, 25,  6,\n",
       "       40,  6,  3, 30, 37, 23, 23, 11, 23, 18, 23,  7, 39,  8, 12,  2,  7,\n",
       "        8, 22, 23,  3, 30, 33, 45, 26, 31, 35, 30, 43, 10, 44,  7, 40, 18,\n",
       "        1,  4,  3,  6, 48, 27, 18, 46, 38, 27, 51, 43,  6, 49, 27,  0, 27,\n",
       "        5,  7, 28,  9,  1,  7, 36, 18, 11, 43, 39, 36, 16, 13,  4, 44, 31,\n",
       "        4, 28,  0, 15,  7,  9, 19, 35,  6,  3,  9, 45, 16, 15, 23,  9, 11,\n",
       "       15, 31,  4, 15, 37, 10, 23, 60,  9, 10, 19,  6, 38, 23, 12, 25, 15,\n",
       "       11, 17, 38, 31, 35, 10, 27, 33,  3, 28, 49, 38, 27, 20,  1, 21, 40,\n",
       "       35, 14,  4, 11, 15, 30, 17, 43, 40, 10,  1, 30, 31,  8, 20,  7, 26,\n",
       "       19, 26,  1,  3, 38,  8,  3, 23,  5, 44, 21,  9, 27, 15, 36, 18, 19,\n",
       "       19, 30, 19, 25, 15,  4], dtype=int64)"
      ]
     },
     "execution_count": 8,
     "metadata": {},
     "output_type": "execute_result"
    }
   ],
   "source": [
    "x = data['yrs.service'].values\n",
    "x"
   ]
  },
  {
   "cell_type": "code",
   "execution_count": 9,
   "id": "baae4da2",
   "metadata": {},
   "outputs": [
    {
     "data": {
      "text/plain": [
       "array([139750, 173200,  79750, 115000, 141500,  97000, 175000, 147765,\n",
       "       119250, 129000, 119800,  79800,  77700,  78000, 104800, 117150,\n",
       "       101000, 103450, 124750, 137000,  89565, 102580,  93904, 113068,\n",
       "        74830, 106294, 134885,  82379,  77000, 118223, 132261,  79916,\n",
       "       117256,  80225,  80225,  77000, 155750,  86373, 125196, 100938,\n",
       "       146500,  93418, 101299, 231545,  94384, 114778,  98193, 151768,\n",
       "       140096,  70768, 126621, 108875,  74692, 106639, 103760,  83900,\n",
       "       117704,  90215, 100135,  75044,  90304,  75243, 109785, 103613,\n",
       "        68404, 100522, 101000,  99418, 111512,  91412, 126320, 146856,\n",
       "       100131,  92391, 113398,  73266, 150480, 193000,  86100,  84240,\n",
       "       150743, 135585, 144640,  88825, 122960, 132825, 152708,  88400,\n",
       "       172272, 107008,  97032, 105128, 105631, 166024, 123683,  84000,\n",
       "        95611, 129676, 102235, 106689, 133217, 126933, 153303, 127512,\n",
       "        83850, 113543,  82099,  82600,  81500, 131205, 112429,  82100,\n",
       "        72500, 104279, 105000, 120806, 148500, 117515,  72500,  73500,\n",
       "       115313, 124309,  97262,  62884,  96614,  78162, 155500,  72500,\n",
       "       113278,  73000,  83001,  76840,  77500,  72500, 168635, 136000,\n",
       "       108262, 105668,  73877, 152664, 100102,  81500, 106608,  89942,\n",
       "       112696, 119015,  92000, 156938, 144651,  95079, 128148,  92000,\n",
       "       111168, 103994,  92000, 118971, 113341,  88000,  95408, 137167,\n",
       "        89516, 176500,  98510,  89942,  88795, 105890, 167284, 130664,\n",
       "       101210, 181257,  91227, 151575,  93164, 134185, 105000, 111751,\n",
       "        95436, 100944, 147349,  92000, 142467, 141136, 100000, 150000,\n",
       "       101000, 134000, 103750, 107500, 106300, 153750, 180000, 133700,\n",
       "       122100,  86250,  90000, 113600,  92700,  92000, 189409, 114500,\n",
       "        92700, 119700, 160400, 152500, 165000,  96545, 162200, 120000,\n",
       "        91300, 163200,  91000, 111350, 128400, 126200, 118700, 145350,\n",
       "       146000, 105350, 109650, 119500, 170000, 145200, 107150, 129600,\n",
       "        87800, 122400,  63900,  70000,  88175, 133900,  91000,  73300,\n",
       "       148750, 117555,  69700,  81700, 114000,  63100,  77202,  96200,\n",
       "        69200, 122875, 102600, 108200,  84273,  90450,  91100, 101100,\n",
       "       128800, 204000, 109000, 102000, 132000,  77500, 116450,  83000,\n",
       "       140300,  74000,  73800,  92550,  88600, 107550, 121200, 126000,\n",
       "        99000, 134800, 143940, 104350,  89650, 103700, 143250, 194800,\n",
       "        73000,  74000,  78500,  93000, 107200, 163200, 107100, 100600,\n",
       "       136500, 103600,  57800, 155865,  88650,  81800, 115800,  85000,\n",
       "       150500,  74000, 174500, 168500, 183800, 104800, 107300,  97150,\n",
       "       126300, 148800,  72300,  70700,  88600, 127100, 170500, 105260,\n",
       "       144050, 111350,  74500, 122500,  74000, 166800,  92050, 108100,\n",
       "        94350, 100351, 146800,  84716,  71065,  67559, 134550, 135027,\n",
       "       104428,  95642, 126431, 161101, 162221,  84500, 124714, 151650,\n",
       "        99247, 134778, 192253, 116518, 105450, 145098, 104542, 151445,\n",
       "        98053, 145000, 128464, 137317, 106231, 124312, 114596, 162150,\n",
       "       150376, 107986, 142023, 128250,  80139, 144309, 186960,  93519,\n",
       "       142500, 138000,  83600, 145028,  88709, 107309, 109954,  78785,\n",
       "       121946, 109646, 138771,  81285, 205500, 101036, 115435, 108413,\n",
       "       131950, 134690,  78182, 110515, 109707, 136660, 103275, 103649,\n",
       "        74856,  77081, 150680, 104121,  75996, 172505,  86895, 105000,\n",
       "       125192, 114330, 139219, 109305, 119450, 186023, 166605, 151292,\n",
       "       103106, 150564, 101738,  95329,  81035], dtype=int64)"
      ]
     },
     "execution_count": 9,
     "metadata": {},
     "output_type": "execute_result"
    }
   ],
   "source": [
    "y = data['salary'].values\n",
    "y"
   ]
  },
  {
   "cell_type": "code",
   "execution_count": 10,
   "id": "58b9b261",
   "metadata": {},
   "outputs": [
    {
     "data": {
      "text/plain": [
       "(397,)"
      ]
     },
     "execution_count": 10,
     "metadata": {},
     "output_type": "execute_result"
    }
   ],
   "source": [
    "x.shape"
   ]
  },
  {
   "cell_type": "code",
   "execution_count": 11,
   "id": "01357df6",
   "metadata": {},
   "outputs": [
    {
     "data": {
      "text/plain": [
       "(397,)"
      ]
     },
     "execution_count": 11,
     "metadata": {},
     "output_type": "execute_result"
    }
   ],
   "source": [
    "y.shape"
   ]
  },
  {
   "cell_type": "code",
   "execution_count": 12,
   "id": "bd301e7c",
   "metadata": {},
   "outputs": [],
   "source": [
    "xtrain,xtest,ytrain,ytest = train_test_split(x,y,train_size=0.75,random_state=100)"
   ]
  },
  {
   "cell_type": "code",
   "execution_count": 13,
   "id": "4ede989a",
   "metadata": {},
   "outputs": [
    {
     "data": {
      "text/plain": [
       "<matplotlib.collections.PathCollection at 0x279676359d0>"
      ]
     },
     "execution_count": 13,
     "metadata": {},
     "output_type": "execute_result"
    },
    {
     "data": {
      "image/png": "[encoded data removed]",
      "text/plain": [
       "<Figure size 432x288 with 1 Axes>"
      ]
     },
     "metadata": {
      "needs_background": "light"
     },
     "output_type": "display_data"
    }
   ],
   "source": [
    "plt.scatter(x,y,color='blue')"
   ]
  },
  {
   "cell_type": "code",
   "execution_count": 16,
   "id": "9862d1ea",
   "metadata": {},
   "outputs": [],
   "source": [
    "df_visualizaton_nominal=data[['discipline','yrs.since.phd','yrs.service','salary']].copy()"
   ]
  },
  {
   "cell_type": "code",
   "execution_count": 17,
   "id": "7a4b22ea",
   "metadata": {},
   "outputs": [
    {
     "data": {
      "text/plain": [
       "Index(['discipline', 'yrs.since.phd', 'yrs.service', 'salary'], dtype='object')"
      ]
     },
     "execution_count": 17,
     "metadata": {},
     "output_type": "execute_result"
    }
   ],
   "source": [
    "df_visualizaton_nominal.columns"
   ]
  },
  {
   "cell_type": "code",
   "execution_count": 18,
   "id": "514b7168",
   "metadata": {},
   "outputs": [
    {
     "name": "stdout",
     "output_type": "stream",
     "text": [
      "B    216\n",
      "A    181\n",
      "Name: discipline, dtype: int64\n"
     ]
    },
    {
     "data": {
      "image/png": "[encoded data removed]",
      "text/plain": [
       "<Figure size 432x288 with 1 Axes>"
      ]
     },
     "metadata": {
      "needs_background": "light"
     },
     "output_type": "display_data"
    }
   ],
   "source": [
    "import seaborn as sns\n",
    "ax=sns.countplot(x='discipline',data=df_visualizaton_nominal)\n",
    "print(df_visualizaton_nominal['discipline'].value_counts())"
   ]
  },
  {
   "cell_type": "code",
   "execution_count": 19,
   "id": "aff3fa72",
   "metadata": {},
   "outputs": [
    {
     "data": {
      "text/plain": [
       "<AxesSubplot:>"
      ]
     },
     "execution_count": 19,
     "metadata": {},
     "output_type": "execute_result"
    },
    {
     "data": {
      "image/png": "[encoded data removed]",
      "text/plain": [
       "<Figure size 864x504 with 2 Axes>"
      ]
     },
     "metadata": {
      "needs_background": "light"
     },
     "output_type": "display_data"
    }
   ],
   "source": [
    "import matplotlib.pyplot as plt\n",
    "plt.figure(figsize=(12,7))\n",
    "sns.heatmap(df_visualizaton_nominal.describe(),annot=True,linecolor='black',fmt='0.2f')"
   ]
  },
  {
   "cell_type": "code",
   "execution_count": 20,
   "id": "d9b2727c",
   "metadata": {},
   "outputs": [],
   "source": [
    "df_visualizaton_nominal=data"
   ]
  },
  {
   "cell_type": "code",
   "execution_count": 21,
   "id": "7103b00a",
   "metadata": {},
   "outputs": [
    {
     "data": {
      "image/png": "[encoded data removed]",
      "text/plain": [
       "<Figure size 576x576 with 2 Axes>"
      ]
     },
     "metadata": {},
     "output_type": "display_data"
    }
   ],
   "source": [
    "plt.figure(figsize=(8,8),facecolor='white')\n",
    "sns.heatmap(data.corr(),annot=True)\n",
    "plt.title('correlation')\n",
    "plt.show()"
   ]
  },
  {
   "cell_type": "code",
   "execution_count": 22,
   "id": "6128cd5f",
   "metadata": {},
   "outputs": [
    {
     "data": {
      "text/plain": [
       "<AxesSubplot:xlabel='discipline', ylabel='yrs.service'>"
      ]
     },
     "execution_count": 22,
     "metadata": {},
     "output_type": "execute_result"
    },
    {
     "data": {
      "image/png": "[encoded data removed]",
      "text/plain": [
       "<Figure size 432x288 with 1 Axes>"
      ]
     },
     "metadata": {
      "needs_background": "light"
     },
     "output_type": "display_data"
    }
   ],
   "source": [
    "sns.scatterplot(x='discipline',y='yrs.service',data=data)"
   ]
  },
  {
   "cell_type": "code",
   "execution_count": 23,
   "id": "f77d1360",
   "metadata": {},
   "outputs": [
    {
     "data": {
      "text/plain": [
       "<AxesSubplot:xlabel='discipline', ylabel='yrs.since.phd'>"
      ]
     },
     "execution_count": 23,
     "metadata": {},
     "output_type": "execute_result"
    },
    {
     "data": {
      "image/png": "[encoded data removed]",
      "text/plain": [
       "<Figure size 432x288 with 1 Axes>"
      ]
     },
     "metadata": {
      "needs_background": "light"
     },
     "output_type": "display_data"
    }
   ],
   "source": [
    "sns.scatterplot(x='discipline',y='yrs.since.phd',data=data)"
   ]
  },
  {
   "cell_type": "code",
   "execution_count": 24,
   "id": "0844966d",
   "metadata": {},
   "outputs": [
    {
     "data": {
      "text/plain": [
       "<AxesSubplot:xlabel='discipline', ylabel='salary'>"
      ]
     },
     "execution_count": 24,
     "metadata": {},
     "output_type": "execute_result"
    },
    {
     "data": {
      "image/png": "[encoded data removed]",
      "text/plain": [
       "<Figure size 432x288 with 1 Axes>"
      ]
     },
     "metadata": {
      "needs_background": "light"
     },
     "output_type": "display_data"
    }
   ],
   "source": [
    "sns.scatterplot(x='discipline',y='salary',data=data)"
   ]
  },
  {
   "cell_type": "code",
   "execution_count": 25,
   "id": "d602e1db",
   "metadata": {},
   "outputs": [
    {
     "data": {
      "image/png": "[encoded data removed]",
      "text/plain": [
       "<Figure size 1080x864 with 2 Axes>"
      ]
     },
     "metadata": {
      "needs_background": "light"
     },
     "output_type": "display_data"
    }
   ],
   "source": [
    "import matplotlib.pyplot as plt\n",
    "import seaborn as sns\n",
    "plt.figure(figsize=(15,12))\n",
    "sns.heatmap(round(data.describe()[1:].transpose()),linewidth=2,annot=True)\n",
    "plt.xticks(fontsize=18)\n",
    "plt.yticks(fontsize=12)\n",
    "plt.title('summary')\n",
    "plt.savefig('heatmap.png')\n",
    "plt.show()"
   ]
  },
  {
   "cell_type": "code",
   "execution_count": 26,
   "id": "4e26e813",
   "metadata": {},
   "outputs": [
    {
     "data": {
      "text/html": [
       "<div>\n",
       "<style scoped>\n",
       "    .dataframe tbody tr th:only-of-type {\n",
       "        vertical-align: middle;\n",
       "    }\n",
       "\n",
       "    .dataframe tbody tr th {\n",
       "        vertical-align: top;\n",
       "    }\n",
       "\n",
       "    .dataframe thead th {\n",
       "        text-align: right;\n",
       "    }\n",
       "</style>\n",
       "<table border=\"1\" class=\"dataframe\">\n",
       "  <thead>\n",
       "    <tr style=\"text-align: right;\">\n",
       "      <th></th>\n",
       "      <th>yrs.since.phd</th>\n",
       "      <th>yrs.service</th>\n",
       "      <th>salary</th>\n",
       "    </tr>\n",
       "  </thead>\n",
       "  <tbody>\n",
       "    <tr>\n",
       "      <th>yrs.since.phd</th>\n",
       "      <td>1.000000</td>\n",
       "      <td>0.909649</td>\n",
       "      <td>0.419231</td>\n",
       "    </tr>\n",
       "    <tr>\n",
       "      <th>yrs.service</th>\n",
       "      <td>0.909649</td>\n",
       "      <td>1.000000</td>\n",
       "      <td>0.334745</td>\n",
       "    </tr>\n",
       "    <tr>\n",
       "      <th>salary</th>\n",
       "      <td>0.419231</td>\n",
       "      <td>0.334745</td>\n",
       "      <td>1.000000</td>\n",
       "    </tr>\n",
       "  </tbody>\n",
       "</table>\n",
       "</div>"
      ],
      "text/plain": [
       "               yrs.since.phd  yrs.service    salary\n",
       "yrs.since.phd       1.000000     0.909649  0.419231\n",
       "yrs.service         0.909649     1.000000  0.334745\n",
       "salary              0.419231     0.334745  1.000000"
      ]
     },
     "execution_count": 26,
     "metadata": {},
     "output_type": "execute_result"
    }
   ],
   "source": [
    "data.corr()"
   ]
  },
  {
   "cell_type": "code",
   "execution_count": 27,
   "id": "dca267de",
   "metadata": {},
   "outputs": [
    {
     "data": {
      "text/html": [
       "<div>\n",
       "<style scoped>\n",
       "    .dataframe tbody tr th:only-of-type {\n",
       "        vertical-align: middle;\n",
       "    }\n",
       "\n",
       "    .dataframe tbody tr th {\n",
       "        vertical-align: top;\n",
       "    }\n",
       "\n",
       "    .dataframe thead th {\n",
       "        text-align: right;\n",
       "    }\n",
       "</style>\n",
       "<table border=\"1\" class=\"dataframe\">\n",
       "  <thead>\n",
       "    <tr style=\"text-align: right;\">\n",
       "      <th></th>\n",
       "      <th>yrs.since.phd</th>\n",
       "      <th>yrs.service</th>\n",
       "      <th>salary</th>\n",
       "    </tr>\n",
       "  </thead>\n",
       "  <tbody>\n",
       "    <tr>\n",
       "      <th>count</th>\n",
       "      <td>397.000000</td>\n",
       "      <td>397.000000</td>\n",
       "      <td>397.000000</td>\n",
       "    </tr>\n",
       "    <tr>\n",
       "      <th>mean</th>\n",
       "      <td>22.314861</td>\n",
       "      <td>17.614610</td>\n",
       "      <td>113706.458438</td>\n",
       "    </tr>\n",
       "    <tr>\n",
       "      <th>std</th>\n",
       "      <td>12.887003</td>\n",
       "      <td>13.006024</td>\n",
       "      <td>30289.038695</td>\n",
       "    </tr>\n",
       "    <tr>\n",
       "      <th>min</th>\n",
       "      <td>1.000000</td>\n",
       "      <td>0.000000</td>\n",
       "      <td>57800.000000</td>\n",
       "    </tr>\n",
       "    <tr>\n",
       "      <th>25%</th>\n",
       "      <td>12.000000</td>\n",
       "      <td>7.000000</td>\n",
       "      <td>91000.000000</td>\n",
       "    </tr>\n",
       "    <tr>\n",
       "      <th>50%</th>\n",
       "      <td>21.000000</td>\n",
       "      <td>16.000000</td>\n",
       "      <td>107300.000000</td>\n",
       "    </tr>\n",
       "    <tr>\n",
       "      <th>75%</th>\n",
       "      <td>32.000000</td>\n",
       "      <td>27.000000</td>\n",
       "      <td>134185.000000</td>\n",
       "    </tr>\n",
       "    <tr>\n",
       "      <th>max</th>\n",
       "      <td>56.000000</td>\n",
       "      <td>60.000000</td>\n",
       "      <td>231545.000000</td>\n",
       "    </tr>\n",
       "  </tbody>\n",
       "</table>\n",
       "</div>"
      ],
      "text/plain": [
       "       yrs.since.phd  yrs.service         salary\n",
       "count     397.000000   397.000000     397.000000\n",
       "mean       22.314861    17.614610  113706.458438\n",
       "std        12.887003    13.006024   30289.038695\n",
       "min         1.000000     0.000000   57800.000000\n",
       "25%        12.000000     7.000000   91000.000000\n",
       "50%        21.000000    16.000000  107300.000000\n",
       "75%        32.000000    27.000000  134185.000000\n",
       "max        56.000000    60.000000  231545.000000"
      ]
     },
     "execution_count": 27,
     "metadata": {},
     "output_type": "execute_result"
    }
   ],
   "source": [
    "data.describe()"
   ]
  },
  {
   "cell_type": "code",
   "execution_count": 28,
   "id": "9d170401",
   "metadata": {},
   "outputs": [],
   "source": [
    "collist=data.columns.values\n",
    "ncol=40\n",
    "nrows=15"
   ]
  },
  {
   "cell_type": "code",
   "execution_count": 29,
   "id": "fae1e03a",
   "metadata": {},
   "outputs": [
    {
     "data": {
      "text/plain": [
       "array(['rank', 'discipline', 'yrs.since.phd', 'yrs.service', 'sex',\n",
       "       'salary'], dtype=object)"
      ]
     },
     "execution_count": 29,
     "metadata": {},
     "output_type": "execute_result"
    }
   ],
   "source": [
    "collist"
   ]
  },
  {
   "cell_type": "code",
   "execution_count": 30,
   "id": "354b27ca",
   "metadata": {},
   "outputs": [
    {
     "data": {
      "text/plain": [
       "6"
      ]
     },
     "execution_count": 30,
     "metadata": {},
     "output_type": "execute_result"
    }
   ],
   "source": [
    "len(list(range(0,len(collist))))"
   ]
  },
  {
   "cell_type": "code",
   "execution_count": 31,
   "id": "28fbe2be",
   "metadata": {},
   "outputs": [
    {
     "name": "stdout",
     "output_type": "stream",
     "text": [
      "rank\n"
     ]
    }
   ],
   "source": [
    "for i in range(0,len(collist)):\n",
    "    print(collist[i])\n",
    "    break"
   ]
  },
  {
   "cell_type": "code",
   "execution_count": 32,
   "id": "78d9f5c4",
   "metadata": {},
   "outputs": [
    {
     "data": {
      "text/plain": [
       "yrs.since.phd    0.300880\n",
       "yrs.service      0.650569\n",
       "salary           0.714568\n",
       "dtype: float64"
      ]
     },
     "execution_count": 32,
     "metadata": {},
     "output_type": "execute_result"
    }
   ],
   "source": [
    "data.skew()"
   ]
  },
  {
   "cell_type": "code",
   "execution_count": 33,
   "id": "c3f32757",
   "metadata": {},
   "outputs": [
    {
     "data": {
      "image/png": "[encoded data removed]",
      "text/plain": [
       "<Figure size 432x288 with 2 Axes>"
      ]
     },
     "metadata": {
      "needs_background": "light"
     },
     "output_type": "display_data"
    }
   ],
   "source": [
    "sns.heatmap(data.isnull())\n",
    "plt.title('Null value')\n",
    "plt.show()"
   ]
  },
  {
   "cell_type": "code",
   "execution_count": 34,
   "id": "99ab6472",
   "metadata": {},
   "outputs": [
    {
     "data": {
      "text/plain": [
       "pandas.core.indexes.base.Index"
      ]
     },
     "execution_count": 34,
     "metadata": {},
     "output_type": "execute_result"
    }
   ],
   "source": [
    "type(data.columns)"
   ]
  },
  {
   "cell_type": "code",
   "execution_count": 40,
   "id": "703db432",
   "metadata": {},
   "outputs": [
    {
     "data": {
      "image/png": "[encoded data removed]",
      "text/plain": [
       "<Figure size 1440x1080 with 3 Axes>"
      ]
     },
     "metadata": {
      "needs_background": "light"
     },
     "output_type": "display_data"
    }
   ],
   "source": [
    "plt.figure(figsize=(20,15))\n",
    "plotnumber = 1\n",
    "\n",
    "for column in data[['yrs.since.phd','yrs.service','salary']]:\n",
    "    if plotnumber<=6:\n",
    "        ax = plt.subplot(2,3,plotnumber)\n",
    "        sns.distplot(data[column])\n",
    "        plt.xlabel(column,fontsize=20)\n",
    "          \n",
    "    plotnumber+=1\n",
    "plt.tight_layout()"
   ]
  },
  {
   "cell_type": "code",
   "execution_count": 41,
   "id": "5faeda5b",
   "metadata": {},
   "outputs": [
    {
     "data": {
      "image/png": "[encoded data removed]",
      "text/plain": [
       "<Figure size 1440x1080 with 3 Axes>"
      ]
     },
     "metadata": {},
     "output_type": "display_data"
    }
   ],
   "source": [
    "plt.figure(figsize=(20,15),facecolor='blue')\n",
    "plotnumber = 1\n",
    "\n",
    "for column in data[['yrs.since.phd','yrs.service','salary']]:\n",
    "    if plotnumber<=6:\n",
    "        ax = plt.subplot(2,3,plotnumber)\n",
    "        sns.boxplot(data[column])\n",
    "        plt.xlabel(column,fontsize=20)\n",
    "        plt.title('Box plot')\n",
    "          \n",
    "    plotnumber+=1\n",
    "plt.tight_layout()"
   ]
  },
  {
   "cell_type": "code",
   "execution_count": 42,
   "id": "42699967",
   "metadata": {},
   "outputs": [
    {
     "data": {
      "image/png": "[encoded data removed]",
      "text/plain": [
       "<Figure size 540x540 with 12 Axes>"
      ]
     },
     "metadata": {
      "needs_background": "light"
     },
     "output_type": "display_data"
    }
   ],
   "source": [
    "sns.pairplot(data)\n",
    "plt.savefig('pairplot.png')\n",
    "plt.show()"
   ]
  },
  {
   "cell_type": "code",
   "execution_count": 43,
   "id": "90e6a3c7",
   "metadata": {},
   "outputs": [
    {
     "data": {
      "text/html": [
       "<div>\n",
       "<style scoped>\n",
       "    .dataframe tbody tr th:only-of-type {\n",
       "        vertical-align: middle;\n",
       "    }\n",
       "\n",
       "    .dataframe tbody tr th {\n",
       "        vertical-align: top;\n",
       "    }\n",
       "\n",
       "    .dataframe thead th {\n",
       "        text-align: right;\n",
       "    }\n",
       "</style>\n",
       "<table border=\"1\" class=\"dataframe\">\n",
       "  <thead>\n",
       "    <tr style=\"text-align: right;\">\n",
       "      <th></th>\n",
       "      <th>yrs.since.phd</th>\n",
       "      <th>yrs.service</th>\n",
       "      <th>salary</th>\n",
       "    </tr>\n",
       "  </thead>\n",
       "  <tbody>\n",
       "    <tr>\n",
       "      <th>yrs.since.phd</th>\n",
       "      <td>1.000000</td>\n",
       "      <td>0.909649</td>\n",
       "      <td>0.419231</td>\n",
       "    </tr>\n",
       "    <tr>\n",
       "      <th>yrs.service</th>\n",
       "      <td>0.909649</td>\n",
       "      <td>1.000000</td>\n",
       "      <td>0.334745</td>\n",
       "    </tr>\n",
       "    <tr>\n",
       "      <th>salary</th>\n",
       "      <td>0.419231</td>\n",
       "      <td>0.334745</td>\n",
       "      <td>1.000000</td>\n",
       "    </tr>\n",
       "  </tbody>\n",
       "</table>\n",
       "</div>"
      ],
      "text/plain": [
       "               yrs.since.phd  yrs.service    salary\n",
       "yrs.since.phd       1.000000     0.909649  0.419231\n",
       "yrs.service         0.909649     1.000000  0.334745\n",
       "salary              0.419231     0.334745  1.000000"
      ]
     },
     "execution_count": 43,
     "metadata": {},
     "output_type": "execute_result"
    }
   ],
   "source": [
    "data.corr()"
   ]
  },
  {
   "cell_type": "code",
   "execution_count": 46,
   "id": "f8b7b909",
   "metadata": {},
   "outputs": [
    {
     "data": {
      "text/plain": [
       "yrs.service      0.334745\n",
       "yrs.since.phd    0.419231\n",
       "salary           1.000000\n",
       "Name: salary, dtype: float64"
      ]
     },
     "execution_count": 46,
     "metadata": {},
     "output_type": "execute_result"
    }
   ],
   "source": [
    "data.corr()['salary'].sort_values()"
   ]
  },
  {
   "cell_type": "code",
   "execution_count": 50,
   "id": "86af0e27",
   "metadata": {},
   "outputs": [
    {
     "data": {
      "text/plain": [
       "<AxesSubplot:>"
      ]
     },
     "execution_count": 50,
     "metadata": {},
     "output_type": "execute_result"
    },
    {
     "data": {
      "image/png": "[encoded data removed]",
      "text/plain": [
       "<Figure size 432x432 with 2 Axes>"
      ]
     },
     "metadata": {
      "needs_background": "light"
     },
     "output_type": "display_data"
    }
   ],
   "source": [
    "plt.figure(figsize=(6,6))\n",
    "sns.heatmap(data.corr(),annot=True,linewidth=0.5,linecolor='black',fmt='.2f')"
   ]
  },
  {
   "cell_type": "code",
   "execution_count": 51,
   "id": "3099d821",
   "metadata": {},
   "outputs": [
    {
     "data": {
      "text/html": [
       "<div>\n",
       "<style scoped>\n",
       "    .dataframe tbody tr th:only-of-type {\n",
       "        vertical-align: middle;\n",
       "    }\n",
       "\n",
       "    .dataframe tbody tr th {\n",
       "        vertical-align: top;\n",
       "    }\n",
       "\n",
       "    .dataframe thead th {\n",
       "        text-align: right;\n",
       "    }\n",
       "</style>\n",
       "<table border=\"1\" class=\"dataframe\">\n",
       "  <thead>\n",
       "    <tr style=\"text-align: right;\">\n",
       "      <th></th>\n",
       "      <th>yrs.since.phd</th>\n",
       "      <th>yrs.service</th>\n",
       "      <th>salary</th>\n",
       "    </tr>\n",
       "  </thead>\n",
       "  <tbody>\n",
       "    <tr>\n",
       "      <th>count</th>\n",
       "      <td>397.000000</td>\n",
       "      <td>397.000000</td>\n",
       "      <td>397.000000</td>\n",
       "    </tr>\n",
       "    <tr>\n",
       "      <th>mean</th>\n",
       "      <td>22.314861</td>\n",
       "      <td>17.614610</td>\n",
       "      <td>113706.458438</td>\n",
       "    </tr>\n",
       "    <tr>\n",
       "      <th>std</th>\n",
       "      <td>12.887003</td>\n",
       "      <td>13.006024</td>\n",
       "      <td>30289.038695</td>\n",
       "    </tr>\n",
       "    <tr>\n",
       "      <th>min</th>\n",
       "      <td>1.000000</td>\n",
       "      <td>0.000000</td>\n",
       "      <td>57800.000000</td>\n",
       "    </tr>\n",
       "    <tr>\n",
       "      <th>25%</th>\n",
       "      <td>12.000000</td>\n",
       "      <td>7.000000</td>\n",
       "      <td>91000.000000</td>\n",
       "    </tr>\n",
       "    <tr>\n",
       "      <th>50%</th>\n",
       "      <td>21.000000</td>\n",
       "      <td>16.000000</td>\n",
       "      <td>107300.000000</td>\n",
       "    </tr>\n",
       "    <tr>\n",
       "      <th>75%</th>\n",
       "      <td>32.000000</td>\n",
       "      <td>27.000000</td>\n",
       "      <td>134185.000000</td>\n",
       "    </tr>\n",
       "    <tr>\n",
       "      <th>max</th>\n",
       "      <td>56.000000</td>\n",
       "      <td>60.000000</td>\n",
       "      <td>231545.000000</td>\n",
       "    </tr>\n",
       "  </tbody>\n",
       "</table>\n",
       "</div>"
      ],
      "text/plain": [
       "       yrs.since.phd  yrs.service         salary\n",
       "count     397.000000   397.000000     397.000000\n",
       "mean       22.314861    17.614610  113706.458438\n",
       "std        12.887003    13.006024   30289.038695\n",
       "min         1.000000     0.000000   57800.000000\n",
       "25%        12.000000     7.000000   91000.000000\n",
       "50%        21.000000    16.000000  107300.000000\n",
       "75%        32.000000    27.000000  134185.000000\n",
       "max        56.000000    60.000000  231545.000000"
      ]
     },
     "execution_count": 51,
     "metadata": {},
     "output_type": "execute_result"
    }
   ],
   "source": [
    "data.describe()"
   ]
  },
  {
   "cell_type": "code",
   "execution_count": 52,
   "id": "d3964965",
   "metadata": {},
   "outputs": [
    {
     "data": {
      "text/plain": [
       "6"
      ]
     },
     "execution_count": 52,
     "metadata": {},
     "output_type": "execute_result"
    }
   ],
   "source": [
    "len(list(range(0,len(collist))))"
   ]
  },
  {
   "cell_type": "code",
   "execution_count": 53,
   "id": "f6361550",
   "metadata": {},
   "outputs": [
    {
     "data": {
      "text/plain": [
       "range(0, 6)"
      ]
     },
     "execution_count": 53,
     "metadata": {},
     "output_type": "execute_result"
    }
   ],
   "source": [
    "range(0,len(collist))"
   ]
  },
  {
   "cell_type": "code",
   "execution_count": 54,
   "id": "87bf87d1",
   "metadata": {},
   "outputs": [
    {
     "data": {
      "text/plain": [
       "yrs.since.phd    0.300880\n",
       "yrs.service      0.650569\n",
       "salary           0.714568\n",
       "dtype: float64"
      ]
     },
     "execution_count": 54,
     "metadata": {},
     "output_type": "execute_result"
    }
   ],
   "source": [
    "data.skew()"
   ]
  },
  {
   "cell_type": "code",
   "execution_count": 55,
   "id": "9ef23dfd",
   "metadata": {},
   "outputs": [],
   "source": [
    "from scipy.stats import zscore"
   ]
  },
  {
   "cell_type": "code",
   "execution_count": 56,
   "id": "544675b4",
   "metadata": {},
   "outputs": [
    {
     "data": {
      "text/html": [
       "<div>\n",
       "<style scoped>\n",
       "    .dataframe tbody tr th:only-of-type {\n",
       "        vertical-align: middle;\n",
       "    }\n",
       "\n",
       "    .dataframe tbody tr th {\n",
       "        vertical-align: top;\n",
       "    }\n",
       "\n",
       "    .dataframe thead th {\n",
       "        text-align: right;\n",
       "    }\n",
       "</style>\n",
       "<table border=\"1\" class=\"dataframe\">\n",
       "  <thead>\n",
       "    <tr style=\"text-align: right;\">\n",
       "      <th></th>\n",
       "      <th>yrs.since.phd</th>\n",
       "      <th>yrs.service</th>\n",
       "      <th>salary</th>\n",
       "    </tr>\n",
       "  </thead>\n",
       "  <tbody>\n",
       "    <tr>\n",
       "      <th>yrs.since.phd</th>\n",
       "      <td>0.876726</td>\n",
       "      <td>0.548212</td>\n",
       "      <td>-0.559426</td>\n",
       "    </tr>\n",
       "    <tr>\n",
       "      <th>yrs.service</th>\n",
       "      <td>0.522633</td>\n",
       "      <td>0.854875</td>\n",
       "      <td>-0.845134</td>\n",
       "    </tr>\n",
       "    <tr>\n",
       "      <th>salary</th>\n",
       "      <td>-1.399359</td>\n",
       "      <td>-1.403087</td>\n",
       "      <td>1.404561</td>\n",
       "    </tr>\n",
       "  </tbody>\n",
       "</table>\n",
       "</div>"
      ],
      "text/plain": [
       "               yrs.since.phd  yrs.service    salary\n",
       "yrs.since.phd       0.876726     0.548212 -0.559426\n",
       "yrs.service         0.522633     0.854875 -0.845134\n",
       "salary             -1.399359    -1.403087  1.404561"
      ]
     },
     "execution_count": 56,
     "metadata": {},
     "output_type": "execute_result"
    }
   ],
   "source": [
    "zscore(data.corr())"
   ]
  },
  {
   "cell_type": "code",
   "execution_count": 57,
   "id": "d6119b8a",
   "metadata": {},
   "outputs": [
    {
     "data": {
      "text/plain": [
       "2"
      ]
     },
     "execution_count": 57,
     "metadata": {},
     "output_type": "execute_result"
    }
   ],
   "source": [
    "np.abs(2)"
   ]
  },
  {
   "cell_type": "code",
   "execution_count": 58,
   "id": "68c2be89",
   "metadata": {},
   "outputs": [],
   "source": [
    "z=np.abs(zscore(data.corr()))"
   ]
  },
  {
   "cell_type": "code",
   "execution_count": 59,
   "id": "c6fe4ae1",
   "metadata": {},
   "outputs": [
    {
     "data": {
      "text/plain": [
       "pandas.core.frame.DataFrame"
      ]
     },
     "execution_count": 59,
     "metadata": {},
     "output_type": "execute_result"
    }
   ],
   "source": [
    "type(z)"
   ]
  },
  {
   "cell_type": "code",
   "execution_count": 60,
   "id": "499da0b4",
   "metadata": {},
   "outputs": [
    {
     "data": {
      "text/plain": [
       "(array([2, 2, 2], dtype=int64), array([0, 1, 2], dtype=int64))"
      ]
     },
     "execution_count": 60,
     "metadata": {},
     "output_type": "execute_result"
    }
   ],
   "source": [
    "np.where(z>1)"
   ]
  },
  {
   "cell_type": "code",
   "execution_count": 61,
   "id": "706e9a80",
   "metadata": {},
   "outputs": [
    {
     "data": {
      "text/plain": [
       "yrs.since.phd    1.399359\n",
       "yrs.service      1.403087\n",
       "salary           1.404561\n",
       "Name: salary, dtype: float64"
      ]
     },
     "execution_count": 61,
     "metadata": {},
     "output_type": "execute_result"
    }
   ],
   "source": [
    "z.iloc[2]"
   ]
  },
  {
   "cell_type": "code",
   "execution_count": 62,
   "id": "8c3582bf",
   "metadata": {},
   "outputs": [
    {
     "data": {
      "text/plain": [
       "3"
      ]
     },
     "execution_count": 62,
     "metadata": {},
     "output_type": "execute_result"
    }
   ],
   "source": [
    "len(np.where(z>1)[0])"
   ]
  },
  {
   "cell_type": "code",
   "execution_count": 63,
   "id": "704d9c4a",
   "metadata": {},
   "outputs": [
    {
     "data": {
      "text/plain": [
       "(3, 3)"
      ]
     },
     "execution_count": 63,
     "metadata": {},
     "output_type": "execute_result"
    }
   ],
   "source": [
    "data.corr().shape"
   ]
  },
  {
   "cell_type": "code",
   "execution_count": 64,
   "id": "9f082926",
   "metadata": {},
   "outputs": [],
   "source": [
    "data1=data.corr()[(z<1).all(axis=1)]"
   ]
  },
  {
   "cell_type": "code",
   "execution_count": 65,
   "id": "4a08ca37",
   "metadata": {},
   "outputs": [
    {
     "name": "stdout",
     "output_type": "stream",
     "text": [
      "total dropped 1\n"
     ]
    }
   ],
   "source": [
    "print('total dropped',data.corr().shape[0]-data1.shape[0])"
   ]
  },
  {
   "cell_type": "code",
   "execution_count": 66,
   "id": "6049d341",
   "metadata": {},
   "outputs": [
    {
     "name": "stdout",
     "output_type": "stream",
     "text": [
      "33.33333333333333 %\n"
     ]
    }
   ],
   "source": [
    "loss_percentage=(3-2)/3*100\n",
    "print(loss_percentage,'%')"
   ]
  },
  {
   "cell_type": "code",
   "execution_count": 67,
   "id": "768b084a",
   "metadata": {},
   "outputs": [],
   "source": [
    "x=data1.iloc[:,:-1]\n",
    "y=data1.iloc[:,-1]"
   ]
  },
  {
   "cell_type": "code",
   "execution_count": 68,
   "id": "a0119061",
   "metadata": {},
   "outputs": [],
   "source": [
    "from sklearn.preprocessing import power_transform\n",
    "x=power_transform(x,method='yeo-johnson')"
   ]
  },
  {
   "cell_type": "code",
   "execution_count": 69,
   "id": "40916b81",
   "metadata": {},
   "outputs": [
    {
     "data": {
      "text/plain": [
       "numpy.ndarray"
      ]
     },
     "execution_count": 69,
     "metadata": {},
     "output_type": "execute_result"
    }
   ],
   "source": [
    "type(x)"
   ]
  },
  {
   "cell_type": "code",
   "execution_count": 70,
   "id": "c8a7c3bc",
   "metadata": {},
   "outputs": [
    {
     "data": {
      "text/plain": [
       "array([[ 1., -1.],\n",
       "       [-1.,  1.]])"
      ]
     },
     "execution_count": 70,
     "metadata": {},
     "output_type": "execute_result"
    }
   ],
   "source": [
    "x"
   ]
  },
  {
   "cell_type": "code",
   "execution_count": 71,
   "id": "b5b1f1a1",
   "metadata": {},
   "outputs": [
    {
     "data": {
      "text/plain": [
       "2"
      ]
     },
     "execution_count": 71,
     "metadata": {},
     "output_type": "execute_result"
    }
   ],
   "source": [
    "x.ndim"
   ]
  },
  {
   "cell_type": "code",
   "execution_count": 73,
   "id": "7d241328",
   "metadata": {},
   "outputs": [
    {
     "data": {
      "text/plain": [
       "array([[ 1., -1.],\n",
       "       [-1.,  1.]])"
      ]
     },
     "execution_count": 73,
     "metadata": {},
     "output_type": "execute_result"
    }
   ],
   "source": [
    "sc=StandardScaler()\n",
    "x=sc.fit_transform(x)\n",
    "x"
   ]
  },
  {
   "cell_type": "code",
   "execution_count": 74,
   "id": "6c247d5e",
   "metadata": {},
   "outputs": [
    {
     "data": {
      "text/plain": [
       "0.0"
      ]
     },
     "execution_count": 74,
     "metadata": {},
     "output_type": "execute_result"
    }
   ],
   "source": [
    "x.mean()"
   ]
  },
  {
   "cell_type": "code",
   "execution_count": 75,
   "id": "bf27bcce",
   "metadata": {},
   "outputs": [
    {
     "data": {
      "text/plain": [
       "1.0"
      ]
     },
     "execution_count": 75,
     "metadata": {},
     "output_type": "execute_result"
    }
   ],
   "source": [
    "x.std()"
   ]
  },
  {
   "cell_type": "code",
   "execution_count": 76,
   "id": "5c541237",
   "metadata": {},
   "outputs": [
    {
     "data": {
      "text/plain": [
       "array([139750, 173200,  79750, 115000, 141500,  97000, 175000, 147765,\n",
       "       119250, 129000, 119800,  79800,  77700,  78000, 104800, 117150,\n",
       "       101000, 103450, 124750, 137000,  89565, 102580,  93904, 113068,\n",
       "        74830, 106294, 134885,  82379,  77000, 118223, 132261,  79916,\n",
       "       117256,  80225, 155750,  86373, 125196, 100938, 146500,  93418,\n",
       "       101299, 231545,  94384, 114778,  98193, 151768, 140096,  70768,\n",
       "       126621, 108875,  74692, 106639, 103760,  83900, 117704,  90215,\n",
       "       100135,  75044,  90304,  75243, 109785, 103613,  68404, 100522,\n",
       "        99418, 111512,  91412, 126320, 146856, 100131,  92391, 113398,\n",
       "        73266, 150480, 193000,  86100,  84240, 150743, 135585, 144640,\n",
       "        88825, 122960, 132825, 152708,  88400, 172272, 107008,  97032,\n",
       "       105128, 105631, 166024, 123683,  84000,  95611, 129676, 102235,\n",
       "       106689, 133217, 126933, 153303, 127512,  83850, 113543,  82099,\n",
       "        82600,  81500, 131205, 112429,  82100,  72500, 104279, 105000,\n",
       "       120806, 148500, 117515,  73500, 115313, 124309,  97262,  62884,\n",
       "        96614,  78162, 155500, 113278,  73000,  83001,  76840,  77500,\n",
       "       168635, 136000, 108262, 105668,  73877, 152664, 100102, 106608,\n",
       "        89942, 112696, 119015,  92000, 156938, 144651,  95079, 128148,\n",
       "       111168, 103994, 118971, 113341,  88000,  95408, 137167,  89516,\n",
       "       176500,  98510,  88795, 105890, 167284, 130664, 101210, 181257,\n",
       "        91227, 151575,  93164, 134185, 111751,  95436, 100944, 147349,\n",
       "       142467, 141136, 100000, 150000, 134000, 103750, 107500, 106300,\n",
       "       153750, 180000, 133700, 122100,  86250,  90000, 113600,  92700,\n",
       "       189409, 114500, 119700, 160400, 152500, 165000,  96545, 162200,\n",
       "       120000,  91300, 163200,  91000, 111350, 128400, 126200, 118700,\n",
       "       145350, 146000, 105350, 109650, 119500, 170000, 145200, 107150,\n",
       "       129600,  87800, 122400,  63900,  70000,  88175, 133900,  73300,\n",
       "       148750, 117555,  69700,  81700, 114000,  63100,  77202,  96200,\n",
       "        69200, 122875, 102600, 108200,  84273,  90450,  91100, 101100,\n",
       "       128800, 204000, 109000, 102000, 132000, 116450,  83000, 140300,\n",
       "        74000,  73800,  92550,  88600, 107550, 121200, 126000,  99000,\n",
       "       134800, 143940, 104350,  89650, 103700, 143250, 194800,  78500,\n",
       "        93000, 107200, 107100, 100600, 136500, 103600,  57800, 155865,\n",
       "        88650,  81800, 115800,  85000, 150500, 174500, 168500, 183800,\n",
       "       107300,  97150, 126300, 148800,  72300,  70700, 127100, 170500,\n",
       "       105260, 144050,  74500, 122500, 166800,  92050, 108100,  94350,\n",
       "       100351, 146800,  84716,  71065,  67559, 134550, 135027, 104428,\n",
       "        95642, 126431, 161101, 162221,  84500, 124714, 151650,  99247,\n",
       "       134778, 192253, 116518, 105450, 145098, 104542, 151445,  98053,\n",
       "       145000, 128464, 137317, 106231, 124312, 114596, 162150, 150376,\n",
       "       107986, 142023, 128250,  80139, 144309, 186960,  93519, 142500,\n",
       "       138000,  83600, 145028,  88709, 107309, 109954,  78785, 121946,\n",
       "       109646, 138771,  81285, 205500, 101036, 115435, 108413, 131950,\n",
       "       134690,  78182, 110515, 109707, 136660, 103275, 103649,  74856,\n",
       "        77081, 150680, 104121,  75996, 172505,  86895, 125192, 114330,\n",
       "       139219, 109305, 119450, 186023, 166605, 151292, 103106, 150564,\n",
       "       101738,  95329,  81035], dtype=int64)"
      ]
     },
     "execution_count": 76,
     "metadata": {},
     "output_type": "execute_result"
    }
   ],
   "source": [
    "data.salary.unique()"
   ]
  },
  {
   "cell_type": "code",
   "execution_count": 77,
   "id": "fe5c1e19",
   "metadata": {},
   "outputs": [
    {
     "data": {
      "text/plain": [
       "92000     5\n",
       "72500     4\n",
       "74000     4\n",
       "105000    3\n",
       "101000    3\n",
       "         ..\n",
       "76840     1\n",
       "83001     1\n",
       "113278    1\n",
       "155500    1\n",
       "81035     1\n",
       "Name: salary, Length: 371, dtype: int64"
      ]
     },
     "execution_count": 77,
     "metadata": {},
     "output_type": "execute_result"
    }
   ],
   "source": [
    "data.salary.value_counts()"
   ]
  },
  {
   "cell_type": "code",
   "execution_count": 78,
   "id": "bfa55bb9",
   "metadata": {},
   "outputs": [],
   "source": [
    "from sklearn.linear_model import LogisticRegression\n",
    "lr=LogisticRegression()\n",
    "from sklearn.metrics import accuracy_score\n",
    "from sklearn.decomposition import PCA"
   ]
  },
  {
   "cell_type": "code",
   "execution_count": 79,
   "id": "f4c57f38",
   "metadata": {},
   "outputs": [
    {
     "data": {
      "image/png": "[encoded data removed]",
      "text/plain": [
       "<Figure size 432x288 with 1 Axes>"
      ]
     },
     "metadata": {
      "needs_background": "light"
     },
     "output_type": "display_data"
    }
   ],
   "source": [
    "x=data1.drop('salary',axis=1)\n",
    "scaler=StandardScaler()\n",
    "x_scaled=scaler.fit_transform(x)\n",
    "pca=PCA()\n",
    "pca.fit_transform(x_scaled)\n",
    "plt.figure()\n",
    "plt.plot(np.cumsum(pca.explained_variance_ratio_))\n",
    "plt.xlabel('principle')\n",
    "plt.ylabel('salary')\n",
    "plt.title('PCA')\n",
    "plt.show()"
   ]
  },
  {
   "cell_type": "code",
   "execution_count": 81,
   "id": "a459752a",
   "metadata": {},
   "outputs": [],
   "source": [
    "from sklearn.model_selection import train_test_split\n",
    "x_train,x_test,y_train,y_test = train_test_split(x_scaled,y,random_state=20,test_size=0.25)"
   ]
  },
  {
   "cell_type": "code",
   "execution_count": 82,
   "id": "a4367031",
   "metadata": {},
   "outputs": [
    {
     "data": {
      "text/plain": [
       "LinearRegression()"
      ]
     },
     "execution_count": 82,
     "metadata": {},
     "output_type": "execute_result"
    }
   ],
   "source": [
    "from sklearn.linear_model import LinearRegression\n",
    "lr=LinearRegression()\n",
    "lr.fit(x_train,y_train)"
   ]
  },
  {
   "cell_type": "code",
   "execution_count": 83,
   "id": "229fd24c",
   "metadata": {},
   "outputs": [],
   "source": [
    "y_pre=lr.predict(x_test)\n",
    "df=pd.DataFrame({'actual':y_test,'predict':y_pre})"
   ]
  },
  {
   "cell_type": "code",
   "execution_count": 84,
   "id": "2bc66b43",
   "metadata": {},
   "outputs": [
    {
     "data": {
      "text/html": [
       "<div>\n",
       "<style scoped>\n",
       "    .dataframe tbody tr th:only-of-type {\n",
       "        vertical-align: middle;\n",
       "    }\n",
       "\n",
       "    .dataframe tbody tr th {\n",
       "        vertical-align: top;\n",
       "    }\n",
       "\n",
       "    .dataframe thead th {\n",
       "        text-align: right;\n",
       "    }\n",
       "</style>\n",
       "<table border=\"1\" class=\"dataframe\">\n",
       "  <thead>\n",
       "    <tr style=\"text-align: right;\">\n",
       "      <th></th>\n",
       "      <th>actual</th>\n",
       "      <th>predict</th>\n",
       "    </tr>\n",
       "  </thead>\n",
       "  <tbody>\n",
       "    <tr>\n",
       "      <th>yrs.since.phd</th>\n",
       "      <td>0.419231</td>\n",
       "      <td>0.334745</td>\n",
       "    </tr>\n",
       "  </tbody>\n",
       "</table>\n",
       "</div>"
      ],
      "text/plain": [
       "                 actual   predict\n",
       "yrs.since.phd  0.419231  0.334745"
      ]
     },
     "execution_count": 84,
     "metadata": {},
     "output_type": "execute_result"
    }
   ],
   "source": [
    "df.head(5)"
   ]
  },
  {
   "cell_type": "code",
   "execution_count": 85,
   "id": "d488f51f",
   "metadata": {},
   "outputs": [],
   "source": [
    "x_train,x_test,y_train,y_test = train_test_split(x,y,random_state=20,test_size=0.25)"
   ]
  },
  {
   "cell_type": "code",
   "execution_count": 90,
   "id": "54a5ceb9",
   "metadata": {},
   "outputs": [
    {
     "data": {
      "text/plain": [
       "array([0.33474468])"
      ]
     },
     "execution_count": 90,
     "metadata": {},
     "output_type": "execute_result"
    }
   ],
   "source": [
    "y_pre"
   ]
  },
  {
   "cell_type": "code",
   "execution_count": 93,
   "id": "dae48082",
   "metadata": {},
   "outputs": [],
   "source": []
  },
  {
   "cell_type": "code",
   "execution_count": null,
   "id": "f256b781",
   "metadata": {},
   "outputs": [],
   "source": []
  },
  {
   "cell_type": "code",
   "execution_count": null,
   "id": "175399e7",
   "metadata": {},
   "outputs": [],
   "source": []
  }
 ],
 "metadata": {
  "kernelspec": {
   "display_name": "Python 3 (ipykernel)",
   "language": "python",
   "name": "python3"
  },
  "language_info": {
   "codemirror_mode": {
    "name": "ipython",
    "version": 3
   },
   "file_extension": ".py",
   "mimetype": "text/x-python",
   "name": "python",
   "nbconvert_exporter": "python",
   "pygments_lexer": "ipython3",
   "version": "3.9.12"
  }
 },
 "nbformat": 4,
 "nbformat_minor": 5
}
